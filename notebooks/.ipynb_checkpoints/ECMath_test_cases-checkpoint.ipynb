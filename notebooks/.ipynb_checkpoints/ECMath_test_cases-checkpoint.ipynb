{
 "cells": [
  {
   "cell_type": "code",
   "execution_count": 1,
   "id": "913feca0-687a-46e9-881f-026f89da7352",
   "metadata": {},
   "outputs": [
    {
     "name": "stdout",
     "output_type": "stream",
     "text": [
      "Collecting ecpy\n",
      "  Using cached ECPy-1.2.5-py3-none-any.whl.metadata (3.5 kB)\n",
      "Using cached ECPy-1.2.5-py3-none-any.whl (43 kB)\n",
      "Installing collected packages: ecpy\n",
      "Successfully installed ecpy-1.2.5\n",
      "\n",
      "\u001b[1m[\u001b[0m\u001b[34;49mnotice\u001b[0m\u001b[1;39;49m]\u001b[0m\u001b[39;49m A new release of pip is available: \u001b[0m\u001b[31;49m24.0\u001b[0m\u001b[39;49m -> \u001b[0m\u001b[32;49m24.2\u001b[0m\n",
      "\u001b[1m[\u001b[0m\u001b[34;49mnotice\u001b[0m\u001b[1;39;49m]\u001b[0m\u001b[39;49m To update, run: \u001b[0m\u001b[32;49mpip install --upgrade pip\u001b[0m\n"
     ]
    }
   ],
   "source": [
    "!python -m pip install ecpy"
   ]
  },
  {
   "cell_type": "code",
   "execution_count": 4,
   "id": "8d49b4dd-1108-42d7-95bc-1d0f7b0df835",
   "metadata": {},
   "outputs": [],
   "source": [
    "from ecpy.curves import Curve"
   ]
  },
  {
   "cell_type": "code",
   "execution_count": 5,
   "id": "f3a95589-68a0-4102-b131-fd965e37eb33",
   "metadata": {},
   "outputs": [],
   "source": [
    "cv = Curve.get_curve('secp256k1')\n",
    "n = cv.order\n",
    "G = cv.generator"
   ]
  },
  {
   "cell_type": "code",
   "execution_count": 6,
   "id": "daef5318-7fd4-427d-84e0-f4f7949cdc13",
   "metadata": {},
   "outputs": [
    {
     "name": "stdout",
     "output_type": "stream",
     "text": [
      "89565891926547004231252920425935692360644145829622209833684329913297188986597\n",
      "12158399299693830322967808612713398636155367887041628176798871954788371653930\n",
      "103388573995635080359749164254216598308788835304023601477803095234286494993683\n",
      "37057141145242123013015316630864329550140216928701153669873286428255828810018\n",
      "103388573995635080359749164254216598308788835304023601477803095234286494993683\n",
      "37057141145242123013015316630864329550140216928701153669873286428255828810018\n",
      "55066263022277343669578718895168534326250603453777594175500187360389116729240\n",
      "32670510020758816978083085130507043184471273380659243275938904335757337482424\n"
     ]
    }
   ],
   "source": [
    "s = 2\n",
    "point = s * G\n",
    "\n",
    "print(point.x)\n",
    "print(point.y)\n",
    "\n",
    "multiplied = 2 * point;\n",
    "added = point + point;\n",
    "\n",
    "print(multiplied.x)\n",
    "print(multiplied.y)\n",
    "\n",
    "print(added.x)\n",
    "print(added.y)\n",
    "\n",
    "print(G.x)\n",
    "print(G.y)"
   ]
  },
  {
   "cell_type": "code",
   "execution_count": null,
   "id": "85dd5443-07ee-4ca3-90a9-725fc29db845",
   "metadata": {},
   "outputs": [],
   "source": []
  }
 ],
 "metadata": {
  "kernelspec": {
   "display_name": "Python 3 (ipykernel)",
   "language": "python",
   "name": "python3"
  },
  "language_info": {
   "codemirror_mode": {
    "name": "ipython",
    "version": 3
   },
   "file_extension": ".py",
   "mimetype": "text/x-python",
   "name": "python",
   "nbconvert_exporter": "python",
   "pygments_lexer": "ipython3",
   "version": "3.12.4"
  }
 },
 "nbformat": 4,
 "nbformat_minor": 5
}
